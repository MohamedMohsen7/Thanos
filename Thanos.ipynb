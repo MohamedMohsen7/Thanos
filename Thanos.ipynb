{
 "cells": [
  {
   "cell_type": "markdown",
   "id": "f760104a",
   "metadata": {},
   "source": [
    "# Thanos!"
   ]
  },
  {
   "cell_type": "markdown",
   "id": "9c835e89",
   "metadata": {},
   "source": [
    "### You have a folder \"Universe\" that contains all images in your \"universe\". \n",
    "#### Upon calling the Thanos function, half of the universe gets wiped out randomly.\n",
    "#### You can revive the universe using the \"backup\" folder.\n",
    "#### Also there is a random names function that gives random names to the images."
   ]
  },
  {
   "cell_type": "code",
   "execution_count": 125,
   "id": "24ab6037",
   "metadata": {},
   "outputs": [],
   "source": [
    "import os\n",
    "import random\n",
    "import time\n",
    "from string import ascii_lowercase\n",
    "from distutils.dir_util import copy_tree"
   ]
  },
  {
   "cell_type": "markdown",
   "id": "4aa46949",
   "metadata": {},
   "source": [
    "### Shuffling of images happens here"
   ]
  },
  {
   "cell_type": "code",
   "execution_count": 126,
   "id": "6392f5ae",
   "metadata": {},
   "outputs": [],
   "source": [
    "def images():\n",
    "    imgs = os.listdir(r\"C:\\Users\\Mohamed\\Documents\\Data Science Course\\Project 1 - Thanos_\\universe\")\n",
    "    random.shuffle(imgs)\n",
    "    return imgs"
   ]
  },
  {
   "cell_type": "markdown",
   "id": "be1a83ec",
   "metadata": {},
   "source": [
    "### Thanos function"
   ]
  },
  {
   "cell_type": "code",
   "execution_count": 127,
   "id": "bba922f5",
   "metadata": {},
   "outputs": [],
   "source": [
    "os.chdir(r\"C:\\Users\\Mohamed\\Documents\\Data Science Course\\Project 1 - Thanos_\\universe\")\n",
    "def thanos():\n",
    "    half = len(images())//2\n",
    "    cut_half = images()[:half]\n",
    "    if len(images()) != 1:\n",
    "        for img in cut_half:\n",
    "            os.remove(img)\n",
    "            print(img, \"IS KILLED\")\n",
    "            time.sleep(0.5)    \n",
    "    else:\n",
    "        for one in images():\n",
    "            os.remove(one)\n",
    "            print(one, \"IS KILLED\")\n",
    "            print(\"THANOS WON\")\n",
    "    return"
   ]
  },
  {
   "cell_type": "code",
   "execution_count": 128,
   "id": "b56d7dc7",
   "metadata": {},
   "outputs": [
    {
     "name": "stdout",
     "output_type": "stream",
     "text": [
      "cover038.png IS KILLED\n",
      "cover042.png IS KILLED\n",
      "cover050.png IS KILLED\n",
      "cover004.png IS KILLED\n",
      "cover006.png IS KILLED\n",
      "cover046.png IS KILLED\n",
      "cover048.png IS KILLED\n",
      "cover040.png IS KILLED\n",
      "cover027.png IS KILLED\n",
      "cover043.png IS KILLED\n",
      "cover045.png IS KILLED\n",
      "cover010.png IS KILLED\n",
      "cover005.png IS KILLED\n",
      "cover015.png IS KILLED\n",
      "cover002.png IS KILLED\n",
      "cover037.png IS KILLED\n",
      "cover036.png IS KILLED\n",
      "cover014.png IS KILLED\n",
      "cover013.png IS KILLED\n",
      "cover003.png IS KILLED\n",
      "cover032.png IS KILLED\n",
      "cover049.png IS KILLED\n",
      "cover026.png IS KILLED\n",
      "cover012.png IS KILLED\n",
      "cover029.png IS KILLED\n"
     ]
    }
   ],
   "source": [
    "thanos()"
   ]
  },
  {
   "cell_type": "markdown",
   "id": "a3fd0ce0",
   "metadata": {},
   "source": [
    "### Recover Function"
   ]
  },
  {
   "cell_type": "code",
   "execution_count": 129,
   "id": "86c02415",
   "metadata": {},
   "outputs": [],
   "source": [
    "def recover():\n",
    "    if len(images()) == 0:\n",
    "        os.chdir(r\"C:\\Users\\Mohamed\\Documents\\Data Science Course\\Project 1 - Thanos_\")\n",
    "        copy_tree('backup', 'universe')\n",
    "        return \"The universe has been revived\"\n",
    "    else:\n",
    "        return \"Universe is not empty\""
   ]
  },
  {
   "cell_type": "code",
   "execution_count": 131,
   "id": "5ed77862",
   "metadata": {},
   "outputs": [
    {
     "data": {
      "text/plain": [
       "'The universe has been revived'"
      ]
     },
     "execution_count": 131,
     "metadata": {},
     "output_type": "execute_result"
    }
   ],
   "source": [
    "recover()"
   ]
  },
  {
   "cell_type": "markdown",
   "id": "bf631251",
   "metadata": {},
   "source": [
    "### Random Names Function"
   ]
  },
  {
   "cell_type": "code",
   "execution_count": 123,
   "id": "29c998b9",
   "metadata": {},
   "outputs": [],
   "source": [
    "def random_names():\n",
    "    os.chdir(r\"C:\\Users\\Mohamed\\Documents\\Data Science Course\\Project 1 - Thanos_\\random_names\")\n",
    "    folder = r\"C:\\Users\\Mohamed\\Documents\\Data Science Course\\Project 1 - Thanos_\\random_names\"\n",
    "    for filename in os.listdir(folder):\n",
    "        result = f\"{random.choice(ascii_lowercase)}{random.choice(ascii_lowercase)}{random.choice(ascii_lowercase)}{random.choice(ascii_lowercase)}.png\"\n",
    "        os.rename(filename,result+\".png\")\n",
    "    return \"Files renamed.\""
   ]
  },
  {
   "cell_type": "code",
   "execution_count": 124,
   "id": "33d74c71",
   "metadata": {},
   "outputs": [
    {
     "data": {
      "text/plain": [
       "'Files renamed.'"
      ]
     },
     "execution_count": 124,
     "metadata": {},
     "output_type": "execute_result"
    }
   ],
   "source": [
    "random_names()"
   ]
  }
 ],
 "metadata": {
  "kernelspec": {
   "display_name": "Python 3",
   "language": "python",
   "name": "python3"
  },
  "language_info": {
   "codemirror_mode": {
    "name": "ipython",
    "version": 3
   },
   "file_extension": ".py",
   "mimetype": "text/x-python",
   "name": "python",
   "nbconvert_exporter": "python",
   "pygments_lexer": "ipython3",
   "version": "3.8.8"
  }
 },
 "nbformat": 4,
 "nbformat_minor": 5
}
